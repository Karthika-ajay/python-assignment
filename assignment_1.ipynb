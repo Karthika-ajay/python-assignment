{
  "nbformat": 4,
  "nbformat_minor": 0,
  "metadata": {
    "colab": {
      "provenance": []
    },
    "kernelspec": {
      "name": "python3",
      "display_name": "Python 3"
    },
    "language_info": {
      "name": "python"
    }
  },
  "cells": [
    {
      "cell_type": "code",
      "execution_count": null,
      "metadata": {
        "colab": {
          "base_uri": "https://localhost:8080/"
        },
        "id": "OCzpdFTV3C8l",
        "outputId": "3b99ef1a-5388-41d6-fee8-b01f43a1924f"
      },
      "outputs": [
        {
          "output_type": "stream",
          "name": "stdout",
          "text": [
            "enter the age :77\n",
            "person is eligible to vote\n"
          ]
        }
      ],
      "source": [
        "\n",
        " # vote or not\n",
        " a=int(input(\"enter the age :\"))\n",
        "if a >= 18:\n",
        "  print(\"person is eligible to vote\")\n",
        "else:\n",
        "  print(\"person is not eligible to vote\")"
      ]
    },
    {
      "cell_type": "code",
      "source": [
        "# largest amoung three number\n",
        "a=int(input(\"enter the number a :\"))\n",
        "b=int(input(\"enter the number b :\"))\n",
        "c=int(input(\"enter the number c :\"))\n",
        "if a >= b:\n",
        "  print(\"a is the largest number\")\n",
        "elif b >= c:\n",
        "  print(\"b is the largest number\")\n",
        "else:\n",
        "  print(\"c is the largest number\")"
      ],
      "metadata": {
        "colab": {
          "base_uri": "https://localhost:8080/"
        },
        "id": "Efw5wtMH3jok",
        "outputId": "c74a51d5-9ff7-4af4-c98a-096619dae6e3"
      },
      "execution_count": null,
      "outputs": [
        {
          "output_type": "stream",
          "name": "stdout",
          "text": [
            "enter the number a :67\n",
            "enter the number b :78\n",
            "enter the number c :77\n",
            "b is the largest number\n"
          ]
        }
      ]
    },
    {
      "cell_type": "code",
      "source": [
        "#even or not\n",
        "a=int(input(\"enter the digit\"))\n",
        "if a%2==0:\n",
        "  print(\"its an even number\")\n",
        "else:\n",
        "  print(\"its not an even number\")"
      ],
      "metadata": {
        "colab": {
          "base_uri": "https://localhost:8080/"
        },
        "id": "Gx4uJdn37J7F",
        "outputId": "69c39e76-eab0-4be2-9dcd-76dbb1219d73"
      },
      "execution_count": null,
      "outputs": [
        {
          "output_type": "stream",
          "name": "stdout",
          "text": [
            "enter the digit75\n",
            "its not an even number\n"
          ]
        }
      ]
    },
    {
      "cell_type": "code",
      "source": [
        "#marks out of 100 with grades\n",
        "a=int(input(\"enter the marks\"))\n",
        "if a >= 90:\n",
        "          print(\"distinction\")\n",
        "elif a >= 80:\n",
        "          print(\"fisrt class\")\n",
        "elif a >= 70:\n",
        "          print(\"second class\")\n",
        "elif a >= 60:\n",
        "          print(\"pass\")\n",
        "elif a >= 50:\n",
        "          print(\"just pass\")\n",
        "else:\n",
        "          print(\"fail\")\n"
      ],
      "metadata": {
        "colab": {
          "base_uri": "https://localhost:8080/"
        },
        "id": "pviLNaZ18Kj9",
        "outputId": "38e8e361-77e7-4c5d-e1da-f9c68aeda9b6"
      },
      "execution_count": null,
      "outputs": [
        {
          "output_type": "stream",
          "name": "stdout",
          "text": [
            "enter the marks78\n",
            "second class\n"
          ]
        }
      ]
    },
    {
      "cell_type": "code",
      "source": [
        "#smaller or greater\n",
        "a=int(input(\"enter the number \"))\n",
        "b=int(input(\"enter the number \"))\n",
        "if a > b:\n",
        "  print(\"A is greater number\")\n",
        "else:\n",
        "  print(\"B is smaller number\")"
      ],
      "metadata": {
        "id": "8C86CDKr9hJK",
        "colab": {
          "base_uri": "https://localhost:8080/"
        },
        "outputId": "9c26c21e-c9eb-4490-bf9c-fd7091cb62ec"
      },
      "execution_count": null,
      "outputs": [
        {
          "output_type": "stream",
          "name": "stdout",
          "text": [
            "enter the number 67\n",
            "enter the number 78\n",
            "B is smaller number\n"
          ]
        }
      ]
    },
    {
      "cell_type": "code",
      "source": [
        "#find the largest\n",
        "a=int(input(\"enter the number \"))\n",
        "b=int(input(\"enter the number \"))\n",
        "if a > b:\n",
        "  print(\"A is the largest number\")\n",
        "else:\n",
        "  print(\"B is the largest number\")"
      ],
      "metadata": {
        "colab": {
          "base_uri": "https://localhost:8080/"
        },
        "id": "50UR57iqefQV",
        "outputId": "c25c8be7-2fda-4a03-b6a9-76406db8c19d"
      },
      "execution_count": null,
      "outputs": [
        {
          "output_type": "stream",
          "name": "stdout",
          "text": [
            "enter the number 78\n",
            "enter the number 45\n",
            "A is the largest number\n"
          ]
        }
      ]
    },
    {
      "cell_type": "code",
      "source": [
        "#odd or even\n",
        "a=int(input(\"enter the number \"))\n",
        "if a%2==0:\n",
        "  print(\"its an even number\")\n",
        "else:\n",
        "  print(\"its an odd number\")"
      ],
      "metadata": {
        "colab": {
          "base_uri": "https://localhost:8080/"
        },
        "id": "K4eKftyxg_OT",
        "outputId": "20f10c22-494c-4b18-9cf3-fe6821c03619"
      },
      "execution_count": null,
      "outputs": [
        {
          "output_type": "stream",
          "name": "stdout",
          "text": [
            "enter the number 79\n",
            "its an odd number\n"
          ]
        }
      ]
    },
    {
      "cell_type": "code",
      "source": [
        "#positive,negative or zero\n",
        "a=int(input(\"enter the number \"))\n",
        "if a > 0:\n",
        "  print(\"positive number\")\n",
        "elif a < 0:\n",
        "  print(\"negative number\")\n",
        "else:\n",
        "  print(\"zero\")"
      ],
      "metadata": {
        "colab": {
          "base_uri": "https://localhost:8080/"
        },
        "id": "benClXWihg2U",
        "outputId": "f81a8783-5ab1-479e-d0db-912eea0d263f"
      },
      "execution_count": null,
      "outputs": [
        {
          "output_type": "stream",
          "name": "stdout",
          "text": [
            "enter the number 79\n",
            "positive number\n"
          ]
        }
      ]
    },
    {
      "cell_type": "code",
      "source": [
        "# division of 2 number\n",
        "a=int(input(\"enter the number \"))\n",
        "b=int(input(\"enter the number \"))\n",
        "print(a/b)"
      ],
      "metadata": {
        "colab": {
          "base_uri": "https://localhost:8080/"
        },
        "id": "ZSx6J90Aii20",
        "outputId": "67973887-8318-47f2-ec20-67d04f429219"
      },
      "execution_count": null,
      "outputs": [
        {
          "output_type": "stream",
          "name": "stdout",
          "text": [
            "enter the number 45\n",
            "enter the number 3\n",
            "15.0\n"
          ]
        }
      ]
    },
    {
      "cell_type": "code",
      "source": [
        "#leap number\n",
        "a=int(input(\"enter the year \"))\n",
        "if a%4==0 or a%100==0 or a%400==0:\n",
        "  print(\"its a leap year\")\n",
        "else:\n",
        "  print(\"its not a leap year\")"
      ],
      "metadata": {
        "colab": {
          "base_uri": "https://localhost:8080/"
        },
        "id": "-Kly7XDVkP9f",
        "outputId": "7e641ddf-c30b-452a-c917-a2356fdb3aa9"
      },
      "execution_count": null,
      "outputs": [
        {
          "output_type": "stream",
          "name": "stdout",
          "text": [
            "enter the year 2024\n",
            "its a leap year\n"
          ]
        }
      ]
    },
    {
      "cell_type": "code",
      "source": [
        "#prime number\n",
        "a=int(input(\"enter the number \"))\n",
        "if a%1:\n",
        "  print(\"prime number\")\n",
        "else:\n",
        "  print(\"not a prime number\")"
      ],
      "metadata": {
        "colab": {
          "base_uri": "https://localhost:8080/"
        },
        "id": "0SgdBA7Al_e7",
        "outputId": "13d217cb-d6f6-4d92-d8b0-f85052674f16"
      },
      "execution_count": null,
      "outputs": [
        {
          "output_type": "stream",
          "name": "stdout",
          "text": [
            "enter the number 76\n",
            "not a prime number\n"
          ]
        }
      ]
    },
    {
      "cell_type": "code",
      "source": [
        "#zodiac sign\n",
        "year = int(input(\"Input your birth year: \"))\n",
        "if (year - 2000) % 12 == 0:\n",
        "    print(\"dragon\")\n",
        "elif (year - 2000) % 12 == 1:\n",
        "    print(\"snake\")\n",
        "elif (year - 2000) % 12 == 2:\n",
        "    print(\"horse\")\n",
        "elif (year - 2000) % 12 == 3:\n",
        "    print(\"sheep\")\n",
        "elif (year - 2000) % 12 == 4:\n",
        "    print(\"monkey\")\n",
        "elif (year - 2000) % 12 == 5:\n",
        "    print(\"rooster\")\n",
        "elif (year - 2000) % 12 == 6:\n",
        "    print(\"dog\")\n",
        "elif (year - 2000) % 12 == 7:\n",
        "    print(\"pig\")\n",
        "elif (year - 2000) % 12 == 8:\n",
        "    print(\"rat\")\n",
        "elif (year - 2000) % 12 == 9:\n",
        "    print(\"ox\")\n",
        "elif (year - 2000) % 12 == 10:\n",
        "    print(\"tiger\")\n",
        "else:\n",
        "    print(\"hare\")\n"
      ],
      "metadata": {
        "id": "3CG6U7mrnRIc",
        "colab": {
          "base_uri": "https://localhost:8080/"
        },
        "outputId": "2347d83f-3696-4904-c860-be6642c9e0e0"
      },
      "execution_count": null,
      "outputs": [
        {
          "output_type": "stream",
          "name": "stdout",
          "text": [
            "Input your birth year: 1996\n",
            "rat\n"
          ]
        }
      ]
    },
    {
      "cell_type": "code",
      "source": [
        "#temperature\n",
        "a=int(input(\"enter the temperature \"))\n",
        "if a > 45:\n",
        "  print(\"its very hot\")\n",
        "elif a > 30:\n",
        "  print(\"its hot\")\n",
        "elif a > 20:\n",
        "  print(\"its warm\")\n",
        "elif a > 10:\n",
        "  print(\"its cold\")\n",
        "else:\n",
        "  print(\"very cold\")"
      ],
      "metadata": {
        "id": "ut6wd6fACrrM",
        "colab": {
          "base_uri": "https://localhost:8080/"
        },
        "outputId": "c1690f90-8f37-41fc-df1f-3a377880224e"
      },
      "execution_count": null,
      "outputs": [
        {
          "output_type": "stream",
          "name": "stdout",
          "text": [
            "enter the temperature -89\n",
            "very cold\n"
          ]
        }
      ]
    },
    {
      "cell_type": "code",
      "source": [
        "#greater or smaller\n",
        "a=int(input(\"enter the digit\"))\n",
        "b=int(input(\"enter the digit\"))\n",
        "if a > b:\n",
        "  print(\"a is greater\")\n",
        "elif a > b:\n",
        "  print(\"a is smaller\")\n",
        "elif a < b:\n",
        "  print(\" b is greater\")\n",
        "else:\n",
        "  print(\"b is smaller\")"
      ],
      "metadata": {
        "colab": {
          "base_uri": "https://localhost:8080/"
        },
        "id": "vjZGaqJ6e91U",
        "outputId": "5f3f496e-359b-4423-88ef-9fac2b8eda54"
      },
      "execution_count": null,
      "outputs": [
        {
          "output_type": "stream",
          "name": "stdout",
          "text": [
            "enter the digit77\n",
            "enter the digit55\n",
            "a is greater\n"
          ]
        }
      ]
    },
    {
      "cell_type": "code",
      "source": [
        "day = int(input(\"Input birthday: \"))\n",
        "month = input(\"Input month of birth (e.g. march, july etc): \")\n",
        "\n",
        "if month == 'december':\n",
        "    astro_sign = 'Sagittarius' if (day < 22) else 'Capricorn'\n",
        "elif month == 'january':\n",
        "    astro_sign = 'Capricorn' if (day < 20) else 'Aquarius'\n",
        "elif month == 'february':\n",
        "    astro_sign = 'Aquarius' if (day < 19) else 'Pisces'\n",
        "elif month == 'march':\n",
        "    astro_sign = 'Pisces' if (day < 21) else 'Aries'\n",
        "elif month == 'april':\n",
        "    astro_sign = 'Aries' if (day < 20) else 'Taurus'\n",
        "elif month == 'may':\n",
        "    astro_sign = 'Taurus' if (day < 21) else 'Gemini'\n",
        "elif month == 'june':\n",
        "    astro_sign = 'Gemini' if (day < 21) else 'Cancer'\n",
        "elif month == 'july':\n",
        "    astro_sign = 'Cancer' if (day < 23) else 'Leo'\n",
        "elif month == 'august':\n",
        "    astro_sign = 'Leo' if (day < 23) else 'Virgo'\n",
        "elif month == 'september':\n",
        "    astro_sign = 'Virgo' if (day < 23) else 'Libra'\n",
        "elif month == 'october':\n",
        "    astro_sign = 'Libra' if (day < 23) else 'Scorpio'\n",
        "elif month == 'november':\n",
        "    astro_sign = 'Scorpio' if (day < 22) else 'Sagittarius'\n",
        "print(\"Your Astrological sign is :\", astro_sign)"
      ],
      "metadata": {
        "id": "RnNTyFGgm_Mt",
        "colab": {
          "base_uri": "https://localhost:8080/"
        },
        "outputId": "159c8f6d-75b0-4556-860c-c57c752fdd2a"
      },
      "execution_count": 1,
      "outputs": [
        {
          "output_type": "stream",
          "name": "stdout",
          "text": [
            "Input birthday: 18\n",
            "Input month of birth (e.g. march, july etc): june\n",
            "Your Astrological sign is : Gemini\n"
          ]
        }
      ]
    },
    {
      "cell_type": "code",
      "source": [
        "#calculate lcm\n",
        "import math\n",
        "print(math.lcm(2,3,4))"
      ],
      "metadata": {
        "colab": {
          "base_uri": "https://localhost:8080/"
        },
        "id": "0j61IQNb3sfP",
        "outputId": "795d0777-9a72-435f-9df3-1b57d8e9090b"
      },
      "execution_count": 2,
      "outputs": [
        {
          "output_type": "stream",
          "name": "stdout",
          "text": [
            "12\n"
          ]
        }
      ]
    },
    {
      "cell_type": "code",
      "source": [
        "# calculate\n",
        "num1 = 54\n",
        "num2 = 72\n",
        "hcf = math.gcd(num1, num2)"
      ],
      "metadata": {
        "id": "eGZF52SA4IoP"
      },
      "execution_count": 4,
      "outputs": []
    },
    {
      "cell_type": "code",
      "source": [],
      "metadata": {
        "id": "la9G2Rgx4cHc"
      },
      "execution_count": null,
      "outputs": []
    }
  ]
}